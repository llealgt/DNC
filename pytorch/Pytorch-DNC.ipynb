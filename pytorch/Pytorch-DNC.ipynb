{
 "cells": [
  {
   "cell_type": "markdown",
   "metadata": {},
   "source": [
    "# Character-Level DNC in PyTorch\n",
    "\n",
    "In this notebook, I'll construct a character-level LSTM with PyTorch. The network will train character by character on some text, then generate new text character by character. As an example, I will train on Anna Karenina. **This model will be able to generate new text based on the text from the book!**\n",
    "\n",
    "This network is based off of Andrej Karpathy's [post on RNNs](http://karpathy.github.io/2015/05/21/rnn-effectiveness/) and [implementation in Torch](https://github.com/karpathy/char-rnn). Below is the general architecture of the character-wise RNN.\n",
    "\n",
    "<img src=\"assets/charseq.jpeg\" width=\"500\">"
   ]
  },
  {
   "cell_type": "markdown",
   "metadata": {},
   "source": [
    "First let's load in our required resources for data loading and model creation."
   ]
  },
  {
   "cell_type": "code",
   "execution_count": 1,
   "metadata": {},
   "outputs": [
    {
     "name": "stdout",
     "output_type": "stream",
     "text": [
      "Pixiedust database opened successfully\n"
     ]
    },
    {
     "data": {
      "text/html": [
       "\n",
       "        <div style=\"margin:10px\">\n",
       "            <a href=\"https://github.com/ibm-watson-data-lab/pixiedust\" target=\"_new\">\n",
       "                <img src=\"https://github.com/ibm-watson-data-lab/pixiedust/raw/master/docs/_static/pd_icon32.png\" style=\"float:left;margin-right:10px\"/>\n",
       "            </a>\n",
       "            <span>Pixiedust version 1.1.15</span>\n",
       "        </div>\n",
       "        "
      ],
      "text/plain": [
       "<IPython.core.display.HTML object>"
      ]
     },
     "metadata": {},
     "output_type": "display_data"
    }
   ],
   "source": [
    "import numpy as np\n",
    "from torch import nn\n",
    "import torch.nn.functional as F\n",
    "from collections import OrderedDict\n",
    "import pixiedust"
   ]
  },
  {
   "cell_type": "markdown",
   "metadata": {},
   "source": [
    "## Load in Data\n",
    "\n",
    "Then, we'll load the Anna Karenina text file and convert it into integers for our network to use. "
   ]
  },
  {
   "cell_type": "code",
   "execution_count": 2,
   "metadata": {},
   "outputs": [],
   "source": [
    "# open text file and read in data as `text`\n",
    "with open('data/corpus.txt', 'r') as f:\n",
    "    text = f.read()"
   ]
  },
  {
   "cell_type": "markdown",
   "metadata": {},
   "source": [
    "Let's check out the first 100 characters, make sure everything is peachy. According to the [American Book Review](http://americanbookreview.org/100bestlines.asp), this is the 6th best first line of a book ever."
   ]
  },
  {
   "cell_type": "code",
   "execution_count": 3,
   "metadata": {},
   "outputs": [
    {
     "data": {
      "text/plain": [
       "'THE COLOUR OUT OF SPACE\\n\\nWest of Arkham the hills rise wild, and there are valleys with deep woods t'"
      ]
     },
     "execution_count": 3,
     "metadata": {},
     "output_type": "execute_result"
    }
   ],
   "source": [
    "text[:100]"
   ]
  },
  {
   "cell_type": "markdown",
   "metadata": {},
   "source": [
    "### Tokenization\n",
    "\n",
    "In the cells, below, I'm creating a couple **dictionaries** to convert the characters to and from integers. Encoding the characters as integers makes it easier to use as input in the network."
   ]
  },
  {
   "cell_type": "code",
   "execution_count": 4,
   "metadata": {},
   "outputs": [],
   "source": [
    "# encode the text and map each character to an integer and vice versa\n",
    "\n",
    "# we create two dictionaries:\n",
    "# 1. int2char, which maps integers to characters\n",
    "# 2. char2int, which maps characters to unique integers\n",
    "chars = tuple(set(text))\n",
    "int2char = dict(enumerate(chars))\n",
    "char2int = {ch: ii for ii,ch in int2char.items()}\n",
    "\n",
    "#encode the text\n",
    "encoded = np.array([char2int[ch] for ch in text])"
   ]
  },
  {
   "cell_type": "markdown",
   "metadata": {},
   "source": [
    "And we can see those same characters from above, encoded as integers."
   ]
  },
  {
   "cell_type": "code",
   "execution_count": 5,
   "metadata": {},
   "outputs": [
    {
     "data": {
      "text/plain": [
       "array([110, 102,  38,  60,  69,  62, 115,  62,  14,  31,  60,  62,  14,\n",
       "       110,  60,  62, 105,  60,  30,  41,  19,  69,  38,  52,  52,  89,\n",
       "        44,  48,  92,  60,  77,  47,  60,  19,  58,  88,  33,  21,  64,\n",
       "        60,  92,  33,  44,  60,  33,  29,  83,  83,  48,  60,  58,  29,\n",
       "        48,  44,  60,  74,  29,  83, 119,  10,  60,  21,   4, 119,  60,\n",
       "        92,  33,  44,  58,  44,  60,  21,  58,  44,  60,  28,  21,  83,\n",
       "        83,  44,  22,  48,  60,  74,  29,  92,  33,  60, 119,  44,  44,\n",
       "       106,  60,  74,  77,  77, 119,  48,  60,  92])"
      ]
     },
     "execution_count": 5,
     "metadata": {},
     "output_type": "execute_result"
    }
   ],
   "source": [
    "encoded[:100]"
   ]
  },
  {
   "cell_type": "markdown",
   "metadata": {},
   "source": [
    "## Pre-processing the data\n",
    "\n",
    "As you can see in our char-RNN image above, our LSTM expects an input that is **one-hot encoded** meaning that each character is converted into an integer (via our created dictionary) and *then* converted into a column vector where only it's corresponding integer index will have the value of 1 and the rest of the vector will be filled with 0's. Since we're one-hot encoding the data, let's make a function to do that!\n"
   ]
  },
  {
   "cell_type": "code",
   "execution_count": 6,
   "metadata": {},
   "outputs": [],
   "source": [
    "def one_hot_encode(arr, n_labels):\n",
    "    \n",
    "    # Initialize the the encoded array\n",
    "    if len(arr.shape) > 1:\n",
    "        one_hot = np.zeros((np.multiply(*arr.shape), n_labels), dtype=np.float32)\n",
    "    else:\n",
    "        one_hot = np.zeros((arr.shape[0],n_labels),dtype = np.float32)\n",
    "    \n",
    "    # Fill the appropriate elements with ones\n",
    "    one_hot[np.arange(one_hot.shape[0]), arr.flatten()] = 1.\n",
    "    \n",
    "    # Finally reshape it to get back to the original array\n",
    "    one_hot = one_hot.reshape((*arr.shape, n_labels))\n",
    "    \n",
    "    return one_hot"
   ]
  },
  {
   "cell_type": "code",
   "execution_count": 7,
   "metadata": {},
   "outputs": [
    {
     "name": "stdout",
     "output_type": "stream",
     "text": [
      "[[[0. 0. 0. 1. 0. 0. 0. 0.]\n",
      "  [0. 0. 0. 0. 0. 1. 0. 0.]\n",
      "  [0. 1. 0. 0. 0. 0. 0. 0.]]]\n"
     ]
    }
   ],
   "source": [
    "# check that the function works as expected\n",
    "test_seq = np.array([[3, 5, 1]])\n",
    "one_hot = one_hot_encode(test_seq, 8)\n",
    "\n",
    "print(one_hot)"
   ]
  },
  {
   "cell_type": "markdown",
   "metadata": {},
   "source": [
    "## Making training mini-batches\n",
    "\n",
    "\n",
    "To train on this data, we also want to create mini-batches for training. Remember that we want our batches to be multiple sequences of some desired number of sequence steps. Considering a simple example, our batches would look like this:\n",
    "\n",
    "<img src=\"assets/sequence_batching@1x.png\" width=500px>\n",
    "\n",
    "\n",
    "<br>\n",
    "\n",
    "In this example, we'll take the encoded characters (passed in as the `arr` parameter) and split them into multiple sequences, given by `batch_size`. Each of our sequences will be `seq_length` long.\n",
    "\n",
    "### Creating Batches\n",
    "\n",
    "**1. The first thing we need to do is discard some of the text so we only have completely full mini-batches. **\n",
    "\n",
    "Each batch contains $N \\times M$ characters, where $N$ is the batch size (the number of sequences in a batch) and $M$ is the seq_length or number of time steps in a sequence. Then, to get the total number of batches, $K$, that we can make from the array `arr`, you divide the length of `arr` by the number of characters per batch. Once you know the number of batches, you can get the total number of characters to keep from `arr`, $N * M * K$.\n",
    "\n",
    "**2. After that, we need to split `arr` into $N$ batches. ** \n",
    "\n",
    "You can do this using `arr.reshape(size)` where `size` is a tuple containing the dimensions sizes of the reshaped array. We know we want $N$ sequences in a batch, so let's make that the size of the first dimension. For the second dimension, you can use `-1` as a placeholder in the size, it'll fill up the array with the appropriate data for you. After this, you should have an array that is $N \\times (M * K)$.\n",
    "\n",
    "**3. Now that we have this array, we can iterate through it to get our mini-batches. **\n",
    "\n",
    "The idea is each batch is a $N \\times M$ window on the $N \\times (M * K)$ array. For each subsequent batch, the window moves over by `seq_length`. We also want to create both the input and target arrays. Remember that the targets are just the inputs shifted over by one character. The way I like to do this window is use `range` to take steps of size `n_steps` from $0$ to `arr.shape[1]`, the total number of tokens in each sequence. That way, the integers you get from `range` always point to the start of a batch, and each window is `seq_length` wide.\n",
    "\n",
    "> **TODO:** Write the code for creating batches in the function below. The exercises in this notebook _will not be easy_. I've provided a notebook with solutions alongside this notebook. If you get stuck, checkout the solutions. The most important thing is that you don't copy and paste the code into here, **type out the solution code yourself.**"
   ]
  },
  {
   "cell_type": "code",
   "execution_count": 8,
   "metadata": {},
   "outputs": [],
   "source": [
    "def get_batches(arr, batch_size, seq_length):\n",
    "    '''Create a generator that returns batches of size\n",
    "       batch_size x seq_length from arr.\n",
    "       \n",
    "       Arguments\n",
    "       ---------\n",
    "       arr: Array you want to make batches from\n",
    "       batch_size: Batch size, the number of sequences per batch\n",
    "       seq_length: Number of encoded chars in a sequence\n",
    "    '''\n",
    "    \n",
    "    ## TODO: Get the number of batches we can make\n",
    "    batch_size_tot = batch_size*seq_length\n",
    "    n_batches = len(arr)//batch_size_tot\n",
    "    \n",
    "    ## TODO: Keep only enough characters to make full batches\n",
    "    arr = arr[:batch_size_tot*n_batches]\n",
    "    \n",
    "    ## TODO: Reshape into batch_size rows\n",
    "    arr = arr.reshape((batch_size,-1))\n",
    "    \n",
    "    ## TODO: Iterate over the batches using a window of size seq_length\n",
    "    for n in range(0, arr.shape[1], seq_length):\n",
    "        # The features\n",
    "        x = arr[:,n:n+seq_length]\n",
    "        # The targets, shifted by one\n",
    "        y = np.zeros_like(x)\n",
    "        y[:,:-1] = x[:,1:]\n",
    "        y[:,-1] = x[:,0] \n",
    "        \n",
    "        y[:,:-1]\n",
    "        yield x, y"
   ]
  },
  {
   "cell_type": "code",
   "execution_count": 9,
   "metadata": {},
   "outputs": [
    {
     "name": "stdout",
     "output_type": "stream",
     "text": [
      "x\n",
      " [110 102  38  60  69  62 115  62  14  31  60  62  14 110  60  62 105  60\n",
      "  30]\n",
      "\n",
      "y\n",
      " [102  38  60  69  62 115  62  14  31  60  62  14 110  60  62 105  60  30\n",
      " 110]\n"
     ]
    }
   ],
   "source": [
    "def get_batches_ff(arr, batch_size):\n",
    "    '''Create a generator that returns batches of size\n",
    "       batch_size x seq_length from arr.\n",
    "       \n",
    "       Arguments\n",
    "       ---------\n",
    "       arr: Array you want to make batches from\n",
    "       batch_size: Batch size, the number of sequences per batch\n",
    "       seq_length: Number of encoded chars in a sequence\n",
    "    '''\n",
    "    \n",
    "    ## TODO: Get the number of batches we can make\n",
    "    batch_size_tot = batch_size\n",
    "    n_batches = len(arr)//batch_size_tot\n",
    "    \n",
    "    ## TODO: Keep only enough characters to make full batches\n",
    "    arr = arr[:batch_size_tot*n_batches]\n",
    "    \n",
    "    ## TODO: Reshape into batch_size rows\n",
    "    #arr = arr.reshape((batch_size,-1))\n",
    "\n",
    "    ## TODO: Iterate over the batches using a window of size seq_length\n",
    "    \n",
    "    for n in range(0, n_batches, 1):\n",
    "        start_index = n*batch_size\n",
    "        end_index = n*batch_size+batch_size-1\n",
    "    #    # The features\n",
    "        \n",
    "        x = arr[start_index:end_index]\n",
    "        y = np.roll(x,-1)\n",
    "        \n",
    "    #    # The targets, shifted by one\n",
    "    #    y = np.zeros_like(x)\n",
    "    #    y[:,:-1] = x[:,1:]\n",
    "    #    y[:,-1] = x[:,0] \n",
    "        \n",
    "    #    y[:,:-1]\n",
    "        yield x, y\n",
    "        \n",
    "batches = get_batches_ff(encoded, 20)\n",
    "x, y = next(batches)\n",
    "\n",
    "print('x\\n', x)\n",
    "print('\\ny\\n', y)"
   ]
  },
  {
   "cell_type": "markdown",
   "metadata": {},
   "source": [
    "### Test Your Implementation\n",
    "\n",
    "Now I'll make some data sets and we can check out what's going on as we batch data. Here, as an example, I'm going to use a batch size of 8 and 50 sequence steps."
   ]
  },
  {
   "cell_type": "code",
   "execution_count": 10,
   "metadata": {},
   "outputs": [],
   "source": [
    "batches = get_batches(encoded, 8, 50)\n",
    "x, y = next(batches)"
   ]
  },
  {
   "cell_type": "code",
   "execution_count": 11,
   "metadata": {},
   "outputs": [
    {
     "name": "stdout",
     "output_type": "stream",
     "text": [
      "x\n",
      " [[110 102  38  60  69  62 115  62  14  31]\n",
      " [ 29  48  44  60  47  77  58  60  92  33]\n",
      " [ 47  58  77  64  60  77   4  44  60  77]\n",
      " [ 48  77  60  21  48  60  92  77  52  83]\n",
      " [  4 119  60  21  16  21  29   4  10  60]\n",
      " [ 44  64  77  58  22  60  77  47  60  21]\n",
      " [ 60  81  89  33  44  58  44  60 119  29]\n",
      " [ 44  58  10  60  96  60  74  21  48  60]]\n",
      "\n",
      "y\n",
      " [[102  38  60  69  62 115  62  14  31  60]\n",
      " [ 48  44  60  47  77  58  60  92  33  44]\n",
      " [ 58  77  64  60  77   4  44  60  77  47]\n",
      " [ 77  60  21  48  60  92  77  52  83  44]\n",
      " [119  60  21  16  21  29   4  10  60  92]\n",
      " [ 64  77  58  22  60  77  47  60  21  60]\n",
      " [ 81  89  33  44  58  44  60 119  29 119]\n",
      " [ 58  10  60  96  60  74  21  48  60  92]]\n"
     ]
    }
   ],
   "source": [
    "# printing out the first 10 items in a sequence\n",
    "print('x\\n', x[:10, :10])\n",
    "print('\\ny\\n', y[:10, :10])"
   ]
  },
  {
   "cell_type": "markdown",
   "metadata": {},
   "source": [
    "If you implemented `get_batches` correctly, the above output should look something like \n",
    "```\n",
    "x\n",
    " [[25  8 60 11 45 27 28 73  1  2]\n",
    " [17  7 20 73 45  8 60 45 73 60]\n",
    " [27 20 80 73  7 28 73 60 73 65]\n",
    " [17 73 45  8 27 73 66  8 46 27]\n",
    " [73 17 60 12 73  8 27 28 73 45]\n",
    " [66 64 17 17 46  7 20 73 60 20]\n",
    " [73 76 20 20 60 73  8 60 80 73]\n",
    " [47 35 43  7 20 17 24 50 37 73]]\n",
    "\n",
    "y\n",
    " [[ 8 60 11 45 27 28 73  1  2  2]\n",
    " [ 7 20 73 45  8 60 45 73 60 45]\n",
    " [20 80 73  7 28 73 60 73 65  7]\n",
    " [73 45  8 27 73 66  8 46 27 65]\n",
    " [17 60 12 73  8 27 28 73 45 27]\n",
    " [64 17 17 46  7 20 73 60 20 80]\n",
    " [76 20 20 60 73  8 60 80 73 17]\n",
    " [35 43  7 20 17 24 50 37 73 36]]\n",
    " ```\n",
    " although the exact numbers may be different. Check to make sure the data is shifted over one step for `y`."
   ]
  },
  {
   "cell_type": "markdown",
   "metadata": {},
   "source": [
    "---\n",
    "## Defining the network with PyTorch\n",
    "\n",
    "Below is where you'll define the network.\n",
    "\n",
    "<img src=\"assets/charRNN.png\" width=500px>\n",
    "\n",
    "Next, you'll use PyTorch to define the architecture of the network. We start by defining the layers and operations we want. Then, define a method for the forward pass. You've also been given a method for predicting characters."
   ]
  },
  {
   "cell_type": "markdown",
   "metadata": {},
   "source": [
    "### Model Structure\n",
    "\n",
    "In `__init__` the suggested structure is as follows:\n",
    "* Create and store the necessary dictionaries (this has been done for you)\n",
    "* Define an LSTM layer that takes as params: an input size (the number of characters), a hidden layer size `n_hidden`, a number of layers `n_layers`, a dropout probability `drop_prob`, and a batch_first boolean (True, since we are batching)\n",
    "* Define a dropout layer with `dropout_prob`\n",
    "* Define a fully-connected layer with params: input size `n_hidden` and output size (the number of characters)\n",
    "* Finally, initialize the weights (again, this has been given)\n",
    "\n",
    "Note that some parameters have been named and given in the `__init__` function, and we use them and store them by doing something like `self.drop_prob = drop_prob`."
   ]
  },
  {
   "cell_type": "markdown",
   "metadata": {},
   "source": [
    "---\n",
    "### LSTM Inputs/Outputs\n",
    "\n",
    "You can create a basic [LSTM layer](https://pytorch.org/docs/stable/nn.html#lstm) as follows\n",
    "\n",
    "```python\n",
    "self.lstm = nn.LSTM(input_size, n_hidden, n_layers, \n",
    "                            dropout=drop_prob, batch_first=True)\n",
    "```\n",
    "\n",
    "where `input_size` is the number of characters this cell expects to see as sequential input, and `n_hidden` is the number of units in the hidden layers in the cell. And we can add dropout by adding a dropout parameter with a specified probability; this will automatically add dropout to the inputs or outputs. Finally, in the `forward` function, we can stack up the LSTM cells into layers using `.view`. With this, you pass in a list of cells and it will send the output of one cell into the next cell.\n",
    "\n",
    "We also need to create an initial hidden state of all zeros. This is done like so\n",
    "\n",
    "```python\n",
    "self.init_hidden()\n",
    "```"
   ]
  },
  {
   "cell_type": "code",
   "execution_count": 12,
   "metadata": {},
   "outputs": [
    {
     "name": "stdout",
     "output_type": "stream",
     "text": [
      "Training on GPU!\n"
     ]
    }
   ],
   "source": [
    "# check if GPU is available\n",
    "import torch\n",
    "train_on_gpu = torch.cuda.is_available()\n",
    "if(train_on_gpu):\n",
    "    print('Training on GPU!')\n",
    "else: \n",
    "    print('No GPU available, training on CPU; consider making n_epochs very small.')"
   ]
  },
  {
   "cell_type": "code",
   "execution_count": 13,
   "metadata": {},
   "outputs": [],
   "source": [
    "class CharRNN(nn.Module):\n",
    "    def __init__(self,tokens=[1,2],n_hidden=256,n_layers =2,drop_prob=0.5,lr=0.001):\n",
    "        super().__init__()\n",
    "        self.drop_prob = drop_prob\n",
    "        self.n_layers = n_layers\n",
    "        self.n_hidden = n_hidden\n",
    "        self.lr = lr\n",
    "        \n",
    "        #creating characteres dictionaries\n",
    "        self.chars = tokens\n",
    "        self.int2char = dict(enumerate(self.chars))\n",
    "        self.char2int = {ch: ii for ii,ch in self.int2char.items()}\n",
    "        \n",
    "        # define layerse of the model\n",
    "        self.lstm_layers  = nn.LSTM(len(self.chars),n_hidden,n_layers,dropout = drop_prob,batch_first = True)\n",
    "        self.dropout = nn.Dropout(drop_prob)\n",
    "        self.fc = nn.Linear(n_hidden,len(self.chars))\n",
    "        \n",
    "        \n",
    "    def forward(self,x,hidden):\n",
    "        #print(x.shape)\n",
    "        hidden_output , hidden_state = self.lstm_layers(x,hidden)\n",
    "        hidden_output = self.dropout(hidden_output)\n",
    "        hidden_output = hidden_output.contiguous().view(-1,self.n_hidden)\n",
    "        out = self.fc(hidden_output)\n",
    "        \n",
    "        return out,hidden_state\n",
    "    \n",
    "    def init_hidden(self, batch_size):\n",
    "        ''' Initializes hidden state '''\n",
    "        # Create two new tensors with sizes n_layers x batch_size x n_hidden,\n",
    "        # initialized to zero, for hidden state and cell state of LSTM\n",
    "        weight = next(self.parameters()).data\n",
    "        \n",
    "        if (train_on_gpu):\n",
    "            hidden = (weight.new(self.n_layers, batch_size, self.n_hidden).zero_().cuda(),\n",
    "                  weight.new(self.n_layers, batch_size, self.n_hidden).zero_().cuda())\n",
    "        else:\n",
    "            hidden = (weight.new(self.n_layers, batch_size, self.n_hidden).zero_(),\n",
    "                      weight.new(self.n_layers, batch_size, self.n_hidden).zero_())\n",
    "        \n",
    "        return hidden\n",
    "            \n",
    "    \n",
    "charNN = CharRNN()"
   ]
  },
  {
   "cell_type": "code",
   "execution_count": 14,
   "metadata": {
    "pixiedust": {
     "displayParams": {}
    },
    "scrolled": true
   },
   "outputs": [
    {
     "name": "stdout",
     "output_type": "stream",
     "text": [
      "tensor([[-2.4601,  0.8047, -2.1077,  1.7917, -0.0428, -1.7604,  0.7422,  0.6817,\n",
      "         -2.9262, -1.2623, -3.6120, -1.7769,  0.1286,  3.7131, -2.3376, -0.6113,\n",
      "         -0.5230,  0.4394, -1.6591, -2.3808,  4.2139, -2.0921, -0.1610,  0.0670,\n",
      "          0.9545,  2.3079,  2.7428,  0.0457,  0.1921,  0.5007, -1.1544, -1.3710,\n",
      "         -3.5110,  1.5078,  0.9784,  2.9275,  3.2585, -2.8443,  0.7867, -0.6377,\n",
      "         -0.6873,  0.7923,  1.5294, -2.3388, -1.6909, -1.1708,  1.0657, -3.0752,\n",
      "          2.1868, -0.6544,  0.2265,  3.9821, -1.0855, -1.3017, -0.9832, -2.8738,\n",
      "          0.0330,  2.1921,  3.5178, -0.8853,  0.8927,  0.7494, -0.9377,  1.3020,\n",
      "         -0.9417, -0.8165,  1.5220,  0.8429,  0.4952, -1.9275,  1.8253,  0.5570,\n",
      "          2.2772,  2.4831, -1.3900, -0.0276, -1.6050,  1.2386,  0.2214,  1.6597,\n",
      "         -0.8812, -1.5213, -0.9405,  1.8698, -1.1369, -2.2107, -1.0517,  0.1116,\n",
      "         -0.8236, -1.2229,  1.1538,  1.7712,  0.4410,  1.3872,  3.5046,  1.2065,\n",
      "         -2.0451,  0.8125, -2.1023, -1.4150, -1.0680,  2.2759, -0.0198, -2.3390,\n",
      "         -2.9765,  2.0877,  1.5242,  0.2426,  1.2599,  0.6785,  0.7011,  0.6362,\n",
      "         -0.1541, -2.3959,  1.5746,  2.6322, -1.1636,  0.5323,  2.6903, -0.1026,\n",
      "          1.0921,  2.7277, -2.8118]], grad_fn=<AddBackward0>)\n"
     ]
    }
   ],
   "source": [
    "#%%pixie_debugger\n",
    "\n",
    "class DNC(nn.Module):\n",
    "    def __init__(self,controller_nn,memory_size=(20,20),read_heads = 1,write_heads = 1,batch_size = 32):\n",
    "        #TODO: fix and/or define what to do with batch sizes\n",
    "        #TODO: determine if the read and write keys should be instance variables or are only used in forward\n",
    "        super().__init__()\n",
    "        self.batch_size = batch_size\n",
    "        self.N = memory_size[0]\n",
    "        self.W = memory_size[1] #word size of the memory \n",
    "        self.R = read_heads # read heads , R in the paper (number of read heads)\n",
    "        self.WS = write_heads #not in the paper, but used as a parametrizable number of write heads\n",
    "        self.interface_vector_size = (self.W*self.R) + (self.W*self.WS) + (2*self.W) + (5*self.R) + 3 #size of the interface vector ,different to the papaer because the paper only has one write head\n",
    "        \n",
    "        self.controller_nn = controller_nn\n",
    "        \n",
    "        # Wy in the paper,trainable parameter in linear combination with controller output to produce output vector Vt\n",
    "        # TODO: parametrize correct configurable dimensions \n",
    "        # (20=size of controller otput,len(chars) = number of elements in the output distribution of the dnc)\n",
    "        self.output_vector_linear = nn.Linear(20,len(chars),bias=False) \n",
    "        \n",
    "        # Wr in the paper, trainable parameter in lnear combination with read heads output that summed to Vt provide every \n",
    "        # step output\n",
    "        # TODO: parametrize correcr configurable dimensions\n",
    "        # (read heads * word size,len(chars) = number of elements in output distribution of the dnc)\n",
    "        self.read_vectors_to_output_linear = nn.Linear(self.R*self.W,len(chars),bias=False)\n",
    "        \n",
    "        #called ξt(ksi) in the paper ,Wξ traiable parammeter in the linear combinacion with controller output to produce \n",
    "        #the interface vector \n",
    "        # TODO: parametrize correct configurable dimensions \n",
    "        # (20=size of controller otput, size of the interface vector)\n",
    "        self.interface_vector_linear = nn.Linear(20,self.interface_vector_size,bias=False)\n",
    "        \n",
    "        # used to do content lookup when reading memory, one key per read head and the key size is the word size\n",
    "        self.read_keys = torch.Tensor(size=(batch_size,self.R,self.W)).requires_grad_(False)\n",
    "        \n",
    "        # one per read head with a positive value representing the key strenght when doing content lookup with read keys\n",
    "        self.read_strenghts = torch.Tensor(size=(batch_size,self.R,1)).requires_grad_(False)\n",
    "        \n",
    "        # used to determine for every read head, how much to read from every memory location at each step\n",
    "        self.read_weighting =  nn.Parameter(  torch.zeros(size=(batch_size,self.R,self.N)),requires_grad=False)\n",
    "        \n",
    "        # to do content lookup when writing to memory, key size is the word size\n",
    "        self.write_keys = torch.Tensor(size=(batch_size,self.WS,self.W)).requires_grad_(False)\n",
    "        \n",
    "        # one for write key, a positive value representing the key strenght when doing content lookup with write key\n",
    "        self.write_strenghts = torch.Tensor(size = (batch_size,self.WS,1)).requires_grad_(False)\n",
    "        \n",
    "        \n",
    "        # the memory matrix M of size N x W\n",
    "        self.memory_matrix =  nn.Parameter(torch.randn(size=memory_size),requires_grad= False)    #  torch.Tensor(torch.zeros(size=memory_size)).requires_grad_(False)\n",
    "        \n",
    "        # used to update the memory matrix(same shape with ones) in the paper is called E\n",
    "        self.memory_matrix_ones = nn.Parameter(torch.ones(size=memory_size),requires_grad=False)\n",
    "        \n",
    "    \n",
    "    def forward(self,x):\n",
    "        \n",
    "        h = self.controller_nn(x) #controller output called ht in the paper\n",
    "        output_vector = self.output_vector_linear(h) # called Vt in the paper(υ=Wy[h1;...;hL])\n",
    "        interface_vector = self.interface_vector_linear(h) #called ξt(ksi) in the paper\n",
    "        \n",
    "        read_keys = interface_vector[:,  0:self.R*self.W]\n",
    "        self.read_keys = read_keys.view((-1,self.R,self.W))\n",
    "        \n",
    "        read_strenghts = interface_vector[:,self.R*self.W:self.R*self.W+self.R]\n",
    "        read_strenghts = read_strenghts.view(-1,self.R,1)\n",
    "        self.read_strenghts = self.oneplus(read_strenghts)\n",
    "        \n",
    "        write_keys = interface_vector[:,self.R*self.W+self.R:self.R*self.W+self.R+(self.W*self.WS)]\n",
    "        self.write_keys = write_keys.view(-1,self.WS,self.W)\n",
    "        \n",
    "        write_strenghts = interface_vector[:,self.R*self.W+self.R+(self.W*self.WS):self.R*self.W+self.R+(self.W*self.WS)+self.WS]\n",
    "        write_strenghts = self.oneplus(write_strenghts)\n",
    "        \n",
    "        \n",
    "        self.write_strenghts = write_strenghts.view(-1,self.WS,1)\n",
    "        write_content_weighting = self.content_lookup(self.memory_matrix,self.write_keys,self.write_strenghts) # c sub t super w in the paper\n",
    "        \n",
    "        # et in the paper\n",
    "        erase_vector = interface_vector[:,self.R*self.W+self.R+(self.W*self.WS)+self.WS:self.R*self.W+self.R+(self.W*self.WS)+self.WS+self.W]\n",
    "        erase_vector = torch.sigmoid(erase_vector)\n",
    "        \n",
    "        # vt in the paper\n",
    "        write_vector = interface_vector[:,self.R*self.W+self.R+(self.W*self.WS)+self.WS+self.W:self.R*self.W+self.R+(self.W*self.WS)+self.WS+self.W+self.W]\n",
    "    \n",
    "        # R free gates(one per read head) f in the paper that determine if the most recent read memory locations can be freed\n",
    "        free_gates = interface_vector[:,self.R*self.W+self.R+(self.W*self.WS)+self.WS+self.W+self.W:self.R*self.W+self.R+(self.W*self.WS)+self.WS+self.W+self.W+self.R]\n",
    "        free_gates =  torch.sigmoid(free_gates.view(-1,self.R,1))\n",
    "        \n",
    "        # returns a value for every memory position indicating how much every location will be preserved based on how much\n",
    "        # they were read in previous step, the more the location was read the less it will be preserved \n",
    "        #print(free_gates)\n",
    "        retention_vector = (1-free_gates*self.read_weighting).prod(dim=1)\n",
    "        \n",
    "        write_weighting = write_content_weighting\n",
    "        write_weighting = write_weighting.view(-1,self.WS*self.N)\n",
    "        \n",
    "        # write to memory( delete with the earse vector then write with the write vector)\n",
    "        new_memory_matrix = self.memory_matrix*(self.memory_matrix_ones - torch.matmul(write_weighting.t(),erase_vector)) + torch.matmul(write_weighting.t(),write_vector)\n",
    "        self.memory_matrix.data = new_memory_matrix\n",
    "        \n",
    "        read_content_weighting = self.content_lookup(self.memory_matrix,self.read_keys,self.read_strenghts)\n",
    "        read_weighting = read_content_weighting\n",
    "        self.read_weighting.data  =  read_weighting\n",
    "        \n",
    "        \n",
    "\n",
    "        read_vectors = torch.matmul(read_weighting,self.memory_matrix)\n",
    "        contact_read_vectors = read_vectors.view(-1,self.R*self.W)\n",
    "        \n",
    "        read_heads_to_output = self.read_vectors_to_output_linear(contact_read_vectors)\n",
    "        \n",
    "        yt = output_vector + read_heads_to_output # yt = υ t + W[r1; ... ; rRt]\n",
    "        \n",
    "        #print(read_vectors)\n",
    "        \n",
    "        return yt\n",
    "        #return output_vector #TODO: return currect output(or outputs) which is this output vector combined with output from the read heads\n",
    "    \n",
    "    def oneplus(self,x):\n",
    "        # apply oneplus operation to a tensor to constrain it's elements to [1,inf)\n",
    "        #TODO: check numerical statiliby as exp is returning inf for numbers like 710\n",
    "        return torch.log(1+torch.exp(x)) + 1\n",
    "    \n",
    "    def content_lookup(self,matrix,keys,strengths):\n",
    "        # returns a probability distribution over the memory locations \n",
    "        # with higher probability to memory locations with bigger similarity to the keys\n",
    "        # bigger strenght make more aggresive distributions ,for example a distribution (0.2,0.3,0.5) with\n",
    "        # bigger strenght becomes (0.1,0.12,0.78)\n",
    "        # returns tensor of shape (batch_size,read keys,memory size) = (batch_size,R,N)\n",
    "        keys_norm =  torch.sqrt(torch.sum(keys**2,dim=2).unsqueeze(dim=2))\n",
    "        matrix_norm = torch.sqrt(torch.sum(matrix**2,dim=1))\n",
    "        norms_multiplication = keys_norm*matrix_norm\n",
    "        # calc cosine similarity between keys and memory locations(1e-6 is used avoiding div by 0)\n",
    "        divide_zero_prevent_factor = torch.zeros_like(norms_multiplication,requires_grad=False).add_(1e-6)\n",
    "        cosine_similarity = torch.matmul(keys,matrix.t())/(torch.max(norms_multiplication,divide_zero_prevent_factor))\n",
    "        \n",
    "        # do a \"strenght\" softmax to calculate the probability distribution\n",
    "        numerator = torch.exp(cosine_similarity*strengths)\n",
    "        denominator = numerator.sum(dim=2).unsqueeze(dim=2)\n",
    "\n",
    "        distribution = numerator/denominator\n",
    "        \n",
    "        return distribution\n",
    "    \n",
    "    def cuda(self):\n",
    "        super().cuda()\n",
    "        self.memory_matrix.cuda()\n",
    "        \n",
    "    \n",
    "    \n",
    "dnc_controller = torch.nn.Sequential(OrderedDict([\n",
    "                            (\"fc1\",torch.nn.Linear(123,20)), #123 is the size of the input(in this case tokens)\n",
    "                            (\"relu\",torch.nn.ReLU()),\n",
    "                            #(\"dropout\",torch.nn.Dropout(0.0)),\n",
    "                            (\"fc2\",torch.nn.Linear(20,20)),\n",
    "                            (\"output\",torch.nn.LogSoftmax(dim=1))\n",
    "                            ])) #TODO: correctly define architecture and dimensions\n",
    "    \n",
    "dnc = DNC(controller_nn=dnc_controller,memory_size=(3,5),read_heads=2,write_heads=1)\n",
    "x, y =  next(get_batches_ff(encoded, 2) )\n",
    "x = torch.from_numpy(one_hot_encode(x, len(chars)))\n",
    "\n",
    "dnc_step = dnc(x)\n",
    "print(dnc_step)\n"
   ]
  },
  {
   "cell_type": "markdown",
   "metadata": {},
   "source": [
    "## Time to train\n",
    "\n",
    "The train function gives us the ability to set the number of epochs, the learning rate, and other parameters.\n",
    "\n",
    "Below we're using an Adam optimizer and cross entropy loss since we are looking at character class scores as output. We calculate the loss and perform backpropagation, as usual!\n",
    "\n",
    "A couple of details about training: \n",
    ">* Within the batch loop, we detach the hidden state from its history; this time setting it equal to a new *tuple* variable because an LSTM has a hidden state that is a tuple of the hidden and cell states.\n",
    "* We use [`clip_grad_norm_`](https://pytorch.org/docs/stable/_modules/torch/nn/utils/clip_grad.html) to help prevent exploding gradients."
   ]
  },
  {
   "cell_type": "code",
   "execution_count": 15,
   "metadata": {},
   "outputs": [],
   "source": [
    "# change the name, for saving multiple files\n",
    "def save_model(net):\n",
    "    model_name = 'lovecraft_rnn_x_epoch.net'\n",
    "\n",
    "    checkpoint = {'n_hidden': net.n_hidden,\n",
    "                  'n_layers': net.n_layers,\n",
    "                  'state_dict': net.state_dict(),\n",
    "                  'tokens': net.chars,\n",
    "                  'dropout_prob':net.drop_prob}\n",
    "\n",
    "    with open(model_name, 'wb') as f:\n",
    "        torch.save(checkpoint, f)"
   ]
  },
  {
   "cell_type": "code",
   "execution_count": 16,
   "metadata": {},
   "outputs": [],
   "source": [
    "def load_model():\n",
    "    with open('lovecraft_rnn_x_epoch.net', 'rb') as f:\n",
    "        checkpoint = torch.load(f)\n",
    "    \n",
    "    loaded = CharRNN(checkpoint['tokens'], n_hidden=checkpoint['n_hidden'], n_layers=checkpoint['n_layers'],drop_prob=checkpoint[\"dropout_prob\"])\n",
    "    loaded.load_state_dict(checkpoint['state_dict'])\n",
    "    \n",
    "    return loaded"
   ]
  },
  {
   "cell_type": "code",
   "execution_count": 17,
   "metadata": {},
   "outputs": [],
   "source": [
    "devices = [0,1]"
   ]
  },
  {
   "cell_type": "code",
   "execution_count": 18,
   "metadata": {},
   "outputs": [],
   "source": [
    "def train(net, data, epochs=10, batch_size=10, seq_length=50, lr=0.001, clip=5, val_frac=0.1, print_every=10,load_checkpoint=False):\n",
    "    ''' Training a network \n",
    "    \n",
    "        Arguments\n",
    "        ---------\n",
    "        \n",
    "        net: CharRNN network\n",
    "        data: text data to train the network\n",
    "        epochs: Number of epochs to train\n",
    "        batch_size: Number of mini-sequences per mini-batch, aka batch size\n",
    "        seq_length: Number of character steps per mini-batch\n",
    "        lr: learning rate\n",
    "        clip: gradient clipping\n",
    "        val_frac: Fraction of data to hold out for validation\n",
    "        print_every: Number of steps for printing training and validation loss\n",
    "    \n",
    "    '''\n",
    "    #pnet = nn.DataParallel(net,device_ids=devices)\n",
    "    net.train()\n",
    "    \n",
    "    opt = torch.optim.Adam(net.parameters(),lr=lr)\n",
    "    criterion = nn.CrossEntropyLoss()\n",
    "    \n",
    "    # create training and validation data\n",
    "    val_idx = int(len(data)*(1-val_frac))\n",
    "    data, val_data = data[:val_idx], data[val_idx:]\n",
    "    \n",
    "    if(train_on_gpu):\n",
    "        net.cuda()\n",
    "    \n",
    "    counter = 0\n",
    "    n_chars = len(chars)\n",
    "    for e in range(epochs):\n",
    "        # initialize hidden state\n",
    "        #h = net.init_hidden(batch_size)\n",
    "        \n",
    "        for x, y in get_batches_ff(data, batch_size):\n",
    "            counter += 1\n",
    "            \n",
    "            if counter > 100:\n",
    "                break #TODO:remove in final training\n",
    "            \n",
    "            # One-hot encode our data and make them Torch tensors\n",
    "            x = one_hot_encode(x, n_chars)\n",
    "            # y = one_hot_encode(y,n_chars) #TODO:remove when recurrent controller is used (this is not in origianl code)\n",
    "            inputs, targets = torch.from_numpy(x), torch.from_numpy(y)\n",
    "            \n",
    "            if(train_on_gpu):\n",
    "                inputs, targets = inputs.cuda(), targets.cuda()\n",
    "\n",
    "            # Creating new variables for the hidden state, otherwise\n",
    "            # we'd backprop through the entire training history\n",
    "            #h = tuple([each.data for each in h])\n",
    "\n",
    "            # zero accumulated gradients\n",
    "            net.zero_grad()\n",
    "            \n",
    "            # get the output from the model\n",
    "            #output, h = net(inputs, h)\n",
    "            y_pred = net(inputs)\n",
    "            \n",
    "            # calculate the loss and perform backprop\n",
    "            #loss = criterion(y_pred, targets.view(batch_size*seq_length))\n",
    "            loss = criterion(y_pred, targets)\n",
    "            loss.backward()\n",
    "            # `clip_grad_norm` helps prevent the exploding gradient problem in RNNs / LSTMs.\n",
    "            #nn.utils.clip_grad_norm_(net.parameters(), clip)\n",
    "            opt.step()\n",
    "            \n",
    "            # loss stats\n",
    "            if counter % print_every == 0:\n",
    "                # Get validation loss\n",
    "                #val_h = net.init_hidden(batch_size)\n",
    "                val_losses = []\n",
    "                net.eval()\n",
    "                for x, y in get_batches_ff(val_data, batch_size):\n",
    "                    # One-hot encode our data and make them Torch tensors\n",
    "                    x = one_hot_encode(x, n_chars)\n",
    "                    x, y = torch.from_numpy(x), torch.from_numpy(y)\n",
    "                    #print(x.shape,y.shape)\n",
    "                    \n",
    "                    # Creating new variables for the hidden state, otherwise\n",
    "                    # we'd backprop through the entire training history\n",
    "                    #val_h = tuple([each.data for each in val_h])\n",
    "                    \n",
    "                    inputs, targets = x, y\n",
    "                    if(train_on_gpu):\n",
    "                        inputs, targets = inputs.cuda(), targets.cuda()\n",
    "\n",
    "                    #output, val_h = net(inputs, val_h)\n",
    "                    val_y = net(inputs)\n",
    "                    #val_loss = criterion(output, targets.view(batch_size*seq_length))\n",
    "                \n",
    "                    #val_losses.append(val_loss.item())\n",
    "                \n",
    "                net.train() # reset to train mode after iterationg through validation data\n",
    "                \n",
    "                print(\"Epoch: {}/{}...\".format(e+1, epochs),\n",
    "                      \"Step: {}...\".format(counter),\n",
    "                      \"Loss: {:.4f}...\".format(loss.item()))#,\n",
    "                #      \"Val Loss: {:.4f}\".format(np.mean(val_losses)))\"\"\"\n",
    "                \n",
    "                #save_model(net)\n",
    "        print(\"finished epoch \",e)\n",
    "        #print(net.memory_matrix)\n",
    "    #save_model(net)"
   ]
  },
  {
   "cell_type": "code",
   "execution_count": 19,
   "metadata": {},
   "outputs": [],
   "source": [
    "def train_recurrent(net, data, epochs=10, batch_size=10, seq_length=50, lr=0.001, clip=5, val_frac=0.1, print_every=10,load_checkpoint=False):\n",
    "    ''' Training a network \n",
    "    \n",
    "        Arguments\n",
    "        ---------\n",
    "        \n",
    "        net: CharRNN network\n",
    "        data: text data to train the network\n",
    "        epochs: Number of epochs to train\n",
    "        batch_size: Number of mini-sequences per mini-batch, aka batch size\n",
    "        seq_length: Number of character steps per mini-batch\n",
    "        lr: learning rate\n",
    "        clip: gradient clipping\n",
    "        val_frac: Fraction of data to hold out for validation\n",
    "        print_every: Number of steps for printing training and validation loss\n",
    "    \n",
    "    '''\n",
    "    #pnet = nn.DataParallel(net,device_ids=devices)\n",
    "    net.train()\n",
    "    \n",
    "    opt = torch.optim.Adam(net.parameters(),lr=lr)\n",
    "    criterion = nn.CrossEntropyLoss()\n",
    "    \n",
    "    # create training and validation data\n",
    "    val_idx = int(len(data)*(1-val_frac))\n",
    "    data, val_data = data[:val_idx], data[val_idx:]\n",
    "    \n",
    "    if(train_on_gpu):\n",
    "        net.cuda()\n",
    "    \n",
    "    counter = 0\n",
    "    n_chars = len(chars)\n",
    "    for e in range(epochs):\n",
    "        # initialize hidden state\n",
    "        #h = net.init_hidden(batch_size)\n",
    "        \n",
    "        for x, y in get_batches(data, batch_size, seq_length):\n",
    "            counter += 1\n",
    "            \n",
    "            if counter > 100:\n",
    "                break #TODO:remove in final training\n",
    "            \n",
    "            # One-hot encode our data and make them Torch tensors\n",
    "            x = one_hot_encode(x, n_chars)\n",
    "            y = one_hot_encode(y,n_chars) #TODO:remove when recurrent controller is used (this is not in origianl code)\n",
    "            inputs, targets = torch.from_numpy(x), torch.from_numpy(y)\n",
    "            \n",
    "            if(train_on_gpu):\n",
    "                inputs, targets = inputs.cuda(), targets.cuda()\n",
    "\n",
    "            # Creating new variables for the hidden state, otherwise\n",
    "            # we'd backprop through the entire training history\n",
    "            #h = tuple([each.data for each in h])\n",
    "\n",
    "            # zero accumulated gradients\n",
    "            net.zero_grad()\n",
    "            \n",
    "            # get the output from the model\n",
    "            #output, h = net(inputs, h)\n",
    "            y_pred = net(inputs)\n",
    "            #print(y_pred.shape,targets.shape)\n",
    "            \n",
    "            # calculate the loss and perform backprop\n",
    "            #loss = criterion(y_pred, targets.view(batch_size*seq_length))\n",
    "            loss = criterion(y_pred, targets)\n",
    "            #loss.backward()\n",
    "            # `clip_grad_norm` helps prevent the exploding gradient problem in RNNs / LSTMs.\n",
    "            #nn.utils.clip_grad_norm_(net.parameters(), clip)\n",
    "            #opt.step()\n",
    "            \n",
    "            # loss stats\n",
    "            if counter % print_every == 0:\n",
    "                # Get validation loss\n",
    "                #val_h = net.init_hidden(batch_size)\n",
    "                val_losses = []\n",
    "                net.eval()\n",
    "                for x, y in get_batches(val_data, batch_size, seq_length):\n",
    "                    # One-hot encode our data and make them Torch tensors\n",
    "                    x = one_hot_encode(x, n_chars)\n",
    "                    x, y = torch.from_numpy(x), torch.from_numpy(y)\n",
    "                    #print(x.shape,y.shape)\n",
    "                    \n",
    "                    # Creating new variables for the hidden state, otherwise\n",
    "                    # we'd backprop through the entire training history\n",
    "                    #val_h = tuple([each.data for each in val_h])\n",
    "                    \n",
    "                    inputs, targets = x, y\n",
    "                    if(train_on_gpu):\n",
    "                        inputs, targets = inputs.cuda(), targets.cuda()\n",
    "\n",
    "                    #output, val_h = net(inputs, val_h)\n",
    "                    val_y = net(inputs)\n",
    "                    #val_loss = criterion(output, targets.view(batch_size*seq_length))\n",
    "                \n",
    "                    #val_losses.append(val_loss.item())\n",
    "                \n",
    "                net.train() # reset to train mode after iterationg through validation data\n",
    "                \n",
    "                print(\"Epoch: {}/{}...\".format(e+1, epochs),\n",
    "                      \"Step: {}...\".format(counter),\n",
    "                      \"Loss: {:.4f}...\".format(loss.item()))#,\n",
    "                #      \"Val Loss: {:.4f}\".format(np.mean(val_losses)))\"\"\"\n",
    "                \n",
    "                #save_model(net)\n",
    "        print(\"finished epoch \",e)"
   ]
  },
  {
   "cell_type": "markdown",
   "metadata": {},
   "source": [
    "## Instantiating the model\n",
    "\n",
    "Now we can actually train the network. First we'll create the network itself, with some given hyperparameters. Then, define the mini-batches sizes, and start training!"
   ]
  },
  {
   "cell_type": "code",
   "execution_count": 20,
   "metadata": {},
   "outputs": [
    {
     "name": "stdout",
     "output_type": "stream",
     "text": [
      " training new model\n",
      "DNC(\n",
      "  (controller_nn): Sequential(\n",
      "    (fc1): Linear(in_features=123, out_features=20, bias=True)\n",
      "    (relu): ReLU()\n",
      "    (fc2): Linear(in_features=20, out_features=20, bias=True)\n",
      "    (output): LogSoftmax()\n",
      "  )\n",
      "  (output_vector_linear): Linear(in_features=20, out_features=123, bias=False)\n",
      "  (read_vectors_to_output_linear): Linear(in_features=10, out_features=123, bias=False)\n",
      "  (interface_vector_linear): Linear(in_features=20, out_features=38, bias=False)\n",
      ")\n"
     ]
    }
   ],
   "source": [
    "## TODO: set you model hyperparameters\n",
    "# define and print the net\n",
    "n_hidden= 1300\n",
    "n_layers=  2\n",
    "load_checkpoint = False\n",
    "\n",
    "if load_checkpoint:\n",
    "    net = load_model()\n",
    "    print(\"Loaded model\")\n",
    "else:\n",
    "    net = dnc\n",
    "    print(\" training new model\")\n",
    "print(net)"
   ]
  },
  {
   "cell_type": "markdown",
   "metadata": {},
   "source": [
    "### Set your training hyperparameters!"
   ]
  },
  {
   "cell_type": "code",
   "execution_count": null,
   "metadata": {
    "pixiedust": {
     "displayParams": {}
    },
    "scrolled": true
   },
   "outputs": [
    {
     "name": "stdout",
     "output_type": "stream",
     "text": [
      "Epoch: 1/1... Step: 10... Loss: 810043506688.0000...\n",
      "Epoch: 1/1... Step: 20... Loss: nan...\n"
     ]
    }
   ],
   "source": [
    "#%%pixie_debugger\n",
    "\n",
    "batch_size = 64 #64\n",
    "seq_length =  100\n",
    "n_epochs =  1 # start small if you are just testing initial behavior\n",
    "\n",
    "# train the model\n",
    "train(net, encoded, epochs=n_epochs, batch_size=batch_size, seq_length=seq_length, lr=0.0015, val_frac=0.15 ,print_every=10)"
   ]
  },
  {
   "cell_type": "markdown",
   "metadata": {},
   "source": [
    "## Getting the best model\n",
    "\n",
    "To set your hyperparameters to get the best performance, you'll want to watch the training and validation losses. If your training loss is much lower than the validation loss, you're overfitting. Increase regularization (more dropout) or use a smaller network. If the training and validation losses are close, you're underfitting so you can increase the size of the network."
   ]
  },
  {
   "cell_type": "markdown",
   "metadata": {},
   "source": [
    "## Hyperparameters\n",
    "\n",
    "Here are the hyperparameters for the network.\n",
    "\n",
    "In defining the model:\n",
    "* `n_hidden` - The number of units in the hidden layers.\n",
    "* `n_layers` - Number of hidden LSTM layers to use.\n",
    "\n",
    "We assume that dropout probability and learning rate will be kept at the default, in this example.\n",
    "\n",
    "And in training:\n",
    "* `batch_size` - Number of sequences running through the network in one pass.\n",
    "* `seq_length` - Number of characters in the sequence the network is trained on. Larger is better typically, the network will learn more long range dependencies. But it takes longer to train. 100 is typically a good number here.\n",
    "* `lr` - Learning rate for training\n",
    "\n",
    "Here's some good advice from Andrej Karpathy on training the network. I'm going to copy it in here for your benefit, but also link to [where it originally came from](https://github.com/karpathy/char-rnn#tips-and-tricks).\n",
    "\n",
    "> ## Tips and Tricks\n",
    "\n",
    ">### Monitoring Validation Loss vs. Training Loss\n",
    ">If you're somewhat new to Machine Learning or Neural Networks it can take a bit of expertise to get good models. The most important quantity to keep track of is the difference between your training loss (printed during training) and the validation loss (printed once in a while when the RNN is run on the validation data (by default every 1000 iterations)). In particular:\n",
    "\n",
    "> - If your training loss is much lower than validation loss then this means the network might be **overfitting**. Solutions to this are to decrease your network size, or to increase dropout. For example you could try dropout of 0.5 and so on.\n",
    "> - If your training/validation loss are about equal then your model is **underfitting**. Increase the size of your model (either number of layers or the raw number of neurons per layer)\n",
    "\n",
    "> ### Approximate number of parameters\n",
    "\n",
    "> The two most important parameters that control the model are `n_hidden` and `n_layers`. I would advise that you always use `n_layers` of either 2/3. The `n_hidden` can be adjusted based on how much data you have. The two important quantities to keep track of here are:\n",
    "\n",
    "> - The number of parameters in your model. This is printed when you start training.\n",
    "> - The size of your dataset. 1MB file is approximately 1 million characters.\n",
    "\n",
    ">These two should be about the same order of magnitude. It's a little tricky to tell. Here are some examples:\n",
    "\n",
    "> - I have a 100MB dataset and I'm using the default parameter settings (which currently print 150K parameters). My data size is significantly larger (100 mil >> 0.15 mil), so I expect to heavily underfit. I am thinking I can comfortably afford to make `n_hidden` larger.\n",
    "> - I have a 10MB dataset and running a 10 million parameter model. I'm slightly nervous and I'm carefully monitoring my validation loss. If it's larger than my training loss then I may want to try to increase dropout a bit and see if that helps the validation loss.\n",
    "\n",
    "> ### Best models strategy\n",
    "\n",
    ">The winning strategy to obtaining very good models (if you have the compute time) is to always err on making the network larger (as large as you're willing to wait for it to compute) and then try different dropout values (between 0,1). Whatever model has the best validation performance (the loss, written in the checkpoint filename, low is good) is the one you should use in the end.\n",
    "\n",
    ">It is very common in deep learning to run many different models with many different hyperparameter settings, and in the end take whatever checkpoint gave the best validation performance.\n",
    "\n",
    ">By the way, the size of your training and validation splits are also parameters. Make sure you have a decent amount of data in your validation set or otherwise the validation performance will be noisy and not very informative."
   ]
  },
  {
   "cell_type": "markdown",
   "metadata": {},
   "source": [
    "## Checkpoint\n",
    "\n",
    "After training, we'll save the model so we can load it again later if we need too. Here I'm saving the parameters needed to create the same architecture, the hidden layer hyperparameters and the text characters."
   ]
  },
  {
   "cell_type": "code",
   "execution_count": null,
   "metadata": {},
   "outputs": [],
   "source": [
    "save_model(net)"
   ]
  },
  {
   "cell_type": "markdown",
   "metadata": {},
   "source": [
    "---\n",
    "## Making Predictions\n",
    "\n",
    "Now that the model is trained, we'll want to sample from it and make predictions about next characters! To sample, we pass in a character and have the network predict the next character. Then we take that character, pass it back in, and get another predicted character. Just keep doing this and you'll generate a bunch of text!\n",
    "\n",
    "### A note on the `predict`  function\n",
    "\n",
    "The output of our RNN is from a fully-connected layer and it outputs a **distribution of next-character scores**.\n",
    "\n",
    "> To actually get the next character, we apply a softmax function, which gives us a *probability* distribution that we can then sample to predict the next character.\n",
    "\n",
    "### Top K sampling\n",
    "\n",
    "Our predictions come from a categorical probability distribution over all the possible characters. We can make the sample text and make it more reasonable to handle (with less variables) by only considering some $K$ most probable characters. This will prevent the network from giving us completely absurd characters while allowing it to introduce some noise and randomness into the sampled text. Read more about [topk, here](https://pytorch.org/docs/stable/torch.html#torch.topk).\n"
   ]
  },
  {
   "cell_type": "code",
   "execution_count": null,
   "metadata": {},
   "outputs": [],
   "source": [
    "def predict(net, char, h=None, top_k=None):\n",
    "        ''' Given a character, predict the next character.\n",
    "            Returns the predicted character and the hidden state.\n",
    "        '''\n",
    "        \n",
    "        # tensor inputs\n",
    "        x = np.array([[net.char2int[char]]])\n",
    "        x = one_hot_encode(x, len(net.chars))\n",
    "        inputs = torch.from_numpy(x)\n",
    "        \n",
    "        if(train_on_gpu):\n",
    "            inputs = inputs.cuda()\n",
    "        \n",
    "        # detach hidden state from history\n",
    "        h = tuple([each.data for each in h])\n",
    "        # get the output of the model\n",
    "        out, h = net(inputs, h)\n",
    "\n",
    "        # get the character probabilities\n",
    "        p = F.softmax(out, dim=1).data\n",
    "\n",
    "        if(train_on_gpu):\n",
    "            p = p.cpu() # move to cpu\n",
    "        \n",
    "        # get top characters\n",
    "        if top_k is None:\n",
    "            top_ch = np.arange(len(net.chars))\n",
    "        else:\n",
    "            p, top_ch = p.topk(top_k)\n",
    "            top_ch = top_ch.numpy().squeeze()\n",
    "        \n",
    "        # select the likely next character with some element of randomness\n",
    "        p = p.numpy().squeeze()\n",
    "        char = np.random.choice(top_ch, p=p/p.sum())\n",
    "        \n",
    "        # return the encoded value of the predicted char and the hidden state\n",
    "        return net.int2char[char], h"
   ]
  },
  {
   "cell_type": "markdown",
   "metadata": {},
   "source": [
    "### Priming and generating text \n",
    "\n",
    "Typically you'll want to prime the network so you can build up a hidden state. Otherwise the network will start out generating characters at random. In general the first bunch of characters will be a little rough since it hasn't built up a long history of characters to predict from."
   ]
  },
  {
   "cell_type": "code",
   "execution_count": null,
   "metadata": {},
   "outputs": [],
   "source": [
    "def sample(net, size, prime='The', top_k=None):\n",
    "        \n",
    "    if(train_on_gpu):\n",
    "        net.cuda()\n",
    "    else:\n",
    "        net.cpu()\n",
    "    \n",
    "    net.eval() # eval mode\n",
    "    \n",
    "    # First off, run through the prime characters\n",
    "    chars = [ch for ch in prime]\n",
    "    h = net.init_hidden(1)\n",
    "    for ch in prime:\n",
    "        char, h = predict(net, ch, h, top_k=top_k)\n",
    "\n",
    "    chars.append(char)\n",
    "    \n",
    "    # Now pass in the previous character and get a new one\n",
    "    for ii in range(size):\n",
    "        char, h = predict(net, chars[-1], h, top_k=top_k)\n",
    "        chars.append(char)\n",
    "\n",
    "    return ''.join(chars)"
   ]
  },
  {
   "cell_type": "code",
   "execution_count": null,
   "metadata": {},
   "outputs": [],
   "source": [
    "print(sample(net, 1000, prime='the nightmare', top_k=2))"
   ]
  },
  {
   "cell_type": "markdown",
   "metadata": {},
   "source": [
    "## Loading a checkpoint"
   ]
  },
  {
   "cell_type": "code",
   "execution_count": null,
   "metadata": {},
   "outputs": [],
   "source": [
    "# Here we have loaded in a model that trained over 20 epochs `rnn_20_epoch.net`\n",
    "loaded = load_model()"
   ]
  },
  {
   "cell_type": "code",
   "execution_count": null,
   "metadata": {},
   "outputs": [],
   "source": [
    "# Sample using a loaded model\n",
    "print(sample(loaded, 2000, top_k=3, prime=\"this horror\"))"
   ]
  },
  {
   "cell_type": "code",
   "execution_count": null,
   "metadata": {},
   "outputs": [],
   "source": [
    "# Sample using a loaded model\n",
    "print(sample(loaded, 2000, top_k=2, prime=\"this night creatures\"))"
   ]
  },
  {
   "cell_type": "code",
   "execution_count": null,
   "metadata": {},
   "outputs": [],
   "source": []
  }
 ],
 "metadata": {
  "kernelspec": {
   "display_name": "Python 3",
   "language": "python",
   "name": "python3"
  },
  "language_info": {
   "codemirror_mode": {
    "name": "ipython",
    "version": 3
   },
   "file_extension": ".py",
   "mimetype": "text/x-python",
   "name": "python",
   "nbconvert_exporter": "python",
   "pygments_lexer": "ipython3",
   "version": "3.6.6"
  }
 },
 "nbformat": 4,
 "nbformat_minor": 2
}
